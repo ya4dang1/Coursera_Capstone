{
    "nbformat_minor": 1,
    "cells": [
        {
            "source": [
                "# Coursera Capstone Project\n",
                "\n",
                "This notebook contains the code for the Coursera Capstone Project on Data Science by IBM and Coursera"
            ],
            "cell_type": "markdown",
            "metadata": {
                "collapsed": true
            }
        },
        {
            "source": [
                "### Importing required libraries"
            ],
            "cell_type": "markdown",
            "metadata": {}
        },
        {
            "execution_count": 2,
            "cell_type": "code",
            "metadata": {},
            "outputs": [],
            "source": [
                "import pandas as pd\n",
                "import numpy as np"
            ]
        },
        {
            "cell_type": "code",
            "execution_count": 3,
            "metadata": {},
            "outputs": [
                {
                    "output_type": "stream",
                    "name": "stdout",
                    "text": [
                        "Hello Capstone Project Course!\n"
                    ]
                }
            ],
            "source": [
                "print('Hello Capstone Project Course!')"
            ]
        }
    ],
    "metadata": {
        "kernelspec": {
            "display_name": "Python 3",
            "name": "python3",
            "language": "python"
        },
        "language_info": {
            "mimetype": "text/x-python",
            "nbconvert_exporter": "python",
            "version": "3.8.3-final",
            "name": "python",
            "file_extension": ".py",
            "pygments_lexer": "ipython3",
            "codemirror_mode": {
                "version": 3,
                "name": "ipython"
            }
        }
    },
    "nbformat": 4
}